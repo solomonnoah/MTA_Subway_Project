{
 "cells": [
  {
   "cell_type": "markdown",
   "metadata": {},
   "source": [
    "# CSV Cleanup\n",
    "Since Panda is **too slow**, this file will convert time column of the dataframe before passing to panda"
   ]
  },
  {
   "cell_type": "code",
   "execution_count": 9,
   "metadata": {},
   "outputs": [
    {
     "name": "stdout",
     "output_type": "stream",
     "text": [
      "cleaned_turnstile_170701.csv has been created from turnstile_170701.csv\n"
     ]
    }
   ],
   "source": [
    "import csv\n",
    "def convertMe(oldFile,newFile):\n",
    "    rowList = []\n",
    "    header = \"\"\n",
    "    with open(oldFile) as inp:\n",
    "        data = csv.reader(inp,delimiter = \",\")\n",
    "        header = next(data,None)\n",
    "        for line in data:\n",
    "            rowList.append(line)\n",
    "    #print(header)\n",
    "    for i in range(len(rowList)):\n",
    "        rowList[i][7] = rowList[i][6]+\" \"+rowList[i][7]\n",
    "        #print(rowList[i])\n",
    "    with open(newFile,\"w\",newline = \"\") as opt:\n",
    "        fpt = csv.writer(opt)\n",
    "        fpt.writerow(header)\n",
    "        for row in rowList:\n",
    "            fpt.writerow(row)\n",
    "    print(newFile,\"has been created from\",oldFile)\n",
    "\n",
    "#Example Usage\n",
    "convertMe(\"turnstile_170701.csv\",\"cleaned_turnstile_170701.csv\")"
   ]
  },
  {
   "cell_type": "code",
   "execution_count": 10,
   "metadata": {},
   "outputs": [
    {
     "name": "stdout",
     "output_type": "stream",
     "text": [
      "cleaned_turnstile_170701.csv has been created from turnstile_170701.csv\n",
      "cleaned_turnstile_170708.csv has been created from turnstile_170708.csv\n",
      "cleaned_turnstile_170715.csv has been created from turnstile_170715.csv\n",
      "cleaned_CombinedTurnstile.csv has been created from CombinedTurnstile.csv\n"
     ]
    }
   ],
   "source": [
    "fileList = [\"turnstile_170701.csv\",\"turnstile_170708.csv\",\"turnstile_170715.csv\",\"CombinedTurnstile.csv\"]\n",
    "for f in fileList:\n",
    "    convertMe(f,\"cleaned_\"+f)"
   ]
  },
  {
   "cell_type": "code",
   "execution_count": null,
   "metadata": {
    "collapsed": true
   },
   "outputs": [],
   "source": []
  }
 ],
 "metadata": {
  "kernelspec": {
   "display_name": "Python 3",
   "language": "python",
   "name": "python3"
  },
  "language_info": {
   "codemirror_mode": {
    "name": "ipython",
    "version": 3
   },
   "file_extension": ".py",
   "mimetype": "text/x-python",
   "name": "python",
   "nbconvert_exporter": "python",
   "pygments_lexer": "ipython3",
   "version": "3.6.1"
  }
 },
 "nbformat": 4,
 "nbformat_minor": 2
}
